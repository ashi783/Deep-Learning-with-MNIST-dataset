{
  "nbformat": 4,
  "nbformat_minor": 0,
  "metadata": {
    "colab": {
      "name": "MNIST dataset.ipynb",
      "version": "0.3.2",
      "views": {},
      "default_view": {},
      "provenance": [],
      "collapsed_sections": []
    },
    "kernelspec": {
      "name": "python3",
      "display_name": "Python 3"
    },
    "accelerator": "GPU"
  },
  "cells": [
    {
      "metadata": {
        "id": "v6yL0UyhbGu0",
        "colab_type": "code",
        "colab": {
          "autoexec": {
            "startup": false,
            "wait_interval": 0
          }
        }
      },
      "cell_type": "code",
      "source": [
        "import tensorflow as tf\n",
        "tf.reset_default_graph()"
      ],
      "execution_count": 0,
      "outputs": []
    },
    {
      "metadata": {
        "id": "gxydE-W9bUUH",
        "colab_type": "text"
      },
      "cell_type": "markdown",
      "source": [
        "Importing data"
      ]
    },
    {
      "metadata": {
        "id": "LAFjsNbYbbtA",
        "colab_type": "code",
        "colab": {
          "autoexec": {
            "startup": false,
            "wait_interval": 0
          },
          "base_uri": "https://localhost:8080/",
          "height": 85
        },
        "outputId": "c6546004-73d5-49c2-bb6b-8a50bfa0079d",
        "executionInfo": {
          "status": "ok",
          "timestamp": 1532760964700,
          "user_tz": -330,
          "elapsed": 1691,
          "user": {
            "displayName": "Ashutosh Joshi",
            "photoUrl": "//lh3.googleusercontent.com/-6YAMosP-CM8/AAAAAAAAAAI/AAAAAAAAABE/HqB6Sx0giHk/s50-c-k-no/photo.jpg",
            "userId": "117103797158922616457"
          }
        }
      },
      "cell_type": "code",
      "source": [
        "from tensorflow.examples.tutorials.mnist import input_data\n",
        "mnist = input_data.read_data_sets('MNIST_data', one_hot=True)"
      ],
      "execution_count": 70,
      "outputs": [
        {
          "output_type": "stream",
          "text": [
            "Extracting MNIST_data/train-images-idx3-ubyte.gz\n",
            "Extracting MNIST_data/train-labels-idx1-ubyte.gz\n",
            "Extracting MNIST_data/t10k-images-idx3-ubyte.gz\n",
            "Extracting MNIST_data/t10k-labels-idx1-ubyte.gz\n"
          ],
          "name": "stdout"
        }
      ]
    },
    {
      "metadata": {
        "id": "Su-2HZBKbckT",
        "colab_type": "text"
      },
      "cell_type": "markdown",
      "source": [
        "Splitting data into train and test dataset"
      ]
    },
    {
      "metadata": {
        "id": "mepyVg19b2iZ",
        "colab_type": "code",
        "colab": {
          "autoexec": {
            "startup": false,
            "wait_interval": 0
          }
        }
      },
      "cell_type": "code",
      "source": [
        "trainX = mnist.train.images\n",
        "trainY = mnist.train.labels\n",
        "testX = mnist.test.images\n",
        "testY = mnist.test.labels"
      ],
      "execution_count": 0,
      "outputs": []
    },
    {
      "metadata": {
        "id": "xmzgEW-idR83",
        "colab_type": "code",
        "colab": {
          "autoexec": {
            "startup": false,
            "wait_interval": 0
          },
          "base_uri": "https://localhost:8080/",
          "height": 85
        },
        "outputId": "1faa3498-3881-4766-997a-20b978fde467",
        "executionInfo": {
          "status": "ok",
          "timestamp": 1532760967345,
          "user_tz": -330,
          "elapsed": 1382,
          "user": {
            "displayName": "Ashutosh Joshi",
            "photoUrl": "//lh3.googleusercontent.com/-6YAMosP-CM8/AAAAAAAAAAI/AAAAAAAAABE/HqB6Sx0giHk/s50-c-k-no/photo.jpg",
            "userId": "117103797158922616457"
          }
        }
      },
      "cell_type": "code",
      "source": [
        "print(trainX.shape)\n",
        "print(trainY.shape)\n",
        "print(testX.shape)\n",
        "print(testY.shape)"
      ],
      "execution_count": 72,
      "outputs": [
        {
          "output_type": "stream",
          "text": [
            "(55000, 784)\n",
            "(55000, 10)\n",
            "(10000, 784)\n",
            "(10000, 10)\n"
          ],
          "name": "stdout"
        }
      ]
    },
    {
      "metadata": {
        "id": "AjqNIlyZbjRL",
        "colab_type": "text"
      },
      "cell_type": "markdown",
      "source": [
        "defining various parameteres"
      ]
    },
    {
      "metadata": {
        "id": "j7yj8Kr7fCIH",
        "colab_type": "code",
        "colab": {
          "autoexec": {
            "startup": false,
            "wait_interval": 0
          }
        }
      },
      "cell_type": "code",
      "source": [
        "learning_rate = 0.7\n",
        "n_features = trainX.shape[1]\n",
        "n_classes = trainY.shape[1]\n",
        "model_name = 'mnist.ckpt'\n",
        "#batch size\n",
        "batch_size = 100\n",
        "#How many times all the data to be shown\n",
        "training_epochs = 100\n",
        "K = 700\n",
        "L = 300\n",
        "M = 300\n",
        "N = 50\n",
        "O = 50"
      ],
      "execution_count": 0,
      "outputs": []
    },
    {
      "metadata": {
        "id": "fEEiYFLGb241",
        "colab_type": "text"
      },
      "cell_type": "markdown",
      "source": [
        "**Building the Graph**"
      ]
    },
    {
      "metadata": {
        "id": "pznkJ1VNb58a",
        "colab_type": "text"
      },
      "cell_type": "markdown",
      "source": [
        "INPUT placeholder"
      ]
    },
    {
      "metadata": {
        "id": "UCTiewRbluIz",
        "colab_type": "code",
        "colab": {
          "autoexec": {
            "startup": false,
            "wait_interval": 0
          }
        }
      },
      "cell_type": "code",
      "source": [
        "with tf.name_scope('input'):\n",
        "    # None -> batch size can be any size, with n_features\n",
        "    x = tf.placeholder(tf.float32, shape=[None, n_features], name=\"x-input\") \n",
        "    # target n_classes output classes\n",
        "    y_ = tf.placeholder(tf.float32, shape=[None, n_classes], name=\"y-input\")"
      ],
      "execution_count": 0,
      "outputs": []
    },
    {
      "metadata": {
        "id": "wnENkh-8lv_g",
        "colab_type": "code",
        "colab": {
          "autoexec": {
            "startup": false,
            "wait_interval": 0
          }
        }
      },
      "cell_type": "code",
      "source": [
        "#layers\n",
        "with tf.name_scope('layer_1'):\n",
        "    W1 = tf.Variable(tf.truncated_normal([n_features, K], stddev=0.1))\n",
        "    b1 = tf.Variable(tf.zeros([K]))\n",
        "    Y1 = tf.nn.sigmoid(tf.add(tf.matmul(x,W1),b1))\n"
      ],
      "execution_count": 0,
      "outputs": []
    },
    {
      "metadata": {
        "id": "7g4IhE6wyjQF",
        "colab_type": "code",
        "colab": {
          "autoexec": {
            "startup": false,
            "wait_interval": 0
          }
        }
      },
      "cell_type": "code",
      "source": [
        "with tf.name_scope('layer_2'):\n",
        "    W2 = tf.Variable(tf.truncated_normal([K, L], stddev=0.1))\n",
        "    b2 = tf.Variable(tf.zeros([L]))\n",
        "    Y2 = tf.nn.sigmoid(tf.add(tf.matmul(Y1,W2),b2))"
      ],
      "execution_count": 0,
      "outputs": []
    },
    {
      "metadata": {
        "id": "17H7fn9zyyfZ",
        "colab_type": "code",
        "colab": {
          "autoexec": {
            "startup": false,
            "wait_interval": 0
          }
        }
      },
      "cell_type": "code",
      "source": [
        "with tf.name_scope('layer_3'):\n",
        "    W3 = tf.Variable(tf.truncated_normal([L, M], stddev=0.1))\n",
        "    b3 = tf.Variable(tf.zeros([M]))\n",
        "    Y3 = tf.nn.sigmoid(tf.add(tf.matmul(Y2,W3),b3))"
      ],
      "execution_count": 0,
      "outputs": []
    },
    {
      "metadata": {
        "id": "XgUieYamy3jr",
        "colab_type": "code",
        "colab": {
          "autoexec": {
            "startup": false,
            "wait_interval": 0
          }
        }
      },
      "cell_type": "code",
      "source": [
        "with tf.name_scope('layer_4'):\n",
        "    W4 = tf.Variable(tf.truncated_normal([M, N], stddev=0.1))\n",
        "    b4 = tf.Variable(tf.zeros([N]))\n",
        "    Y4 = tf.nn.sigmoid(tf.add(tf.matmul(Y3,W4),b4))"
      ],
      "execution_count": 0,
      "outputs": []
    },
    {
      "metadata": {
        "id": "rrxKnCMlex1a",
        "colab_type": "code",
        "colab": {
          "autoexec": {
            "startup": false,
            "wait_interval": 0
          }
        }
      },
      "cell_type": "code",
      "source": [
        "with tf.name_scope('layer_5'):\n",
        "    W5 = tf.Variable(tf.truncated_normal([N, O], stddev=0.1))\n",
        "    b5 = tf.Variable(tf.zeros([O]))\n",
        "    Y5 = tf.nn.sigmoid(tf.add(tf.matmul(Y4,W5),b5))"
      ],
      "execution_count": 0,
      "outputs": []
    },
    {
      "metadata": {
        "id": "LUIfIOBby-Pw",
        "colab_type": "code",
        "colab": {
          "autoexec": {
            "startup": false,
            "wait_interval": 0
          }
        }
      },
      "cell_type": "code",
      "source": [
        "with tf.name_scope(\"Output\"):\n",
        "    W6 = tf.Variable(tf.truncated_normal([O,n_classes], stddev=0.1))\n",
        "    b6 = tf.Variable(tf.zeros([n_classes]))\n",
        "    y = tf.nn.softmax(tf.matmul(Y5,W6) + b6)"
      ],
      "execution_count": 0,
      "outputs": []
    },
    {
      "metadata": {
        "id": "fp-LT1hncBTx",
        "colab_type": "text"
      },
      "cell_type": "markdown",
      "source": [
        "defining Loss, GradientDescent Optimizer and accuray:"
      ]
    },
    {
      "metadata": {
        "id": "zT1kWfRImI9l",
        "colab_type": "code",
        "colab": {
          "autoexec": {
            "startup": false,
            "wait_interval": 0
          }
        }
      },
      "cell_type": "code",
      "source": [
        "with tf.name_scope('Loss'):\n",
        "    cross_entropy = tf.reduce_mean(-tf.reduce_sum(y_ * tf.log(y), reduction_indices=[1]))"
      ],
      "execution_count": 0,
      "outputs": []
    },
    {
      "metadata": {
        "id": "mKLM4SakmQg7",
        "colab_type": "code",
        "colab": {
          "autoexec": {
            "startup": false,
            "wait_interval": 0
          }
        }
      },
      "cell_type": "code",
      "source": [
        "with tf.name_scope('train'):    \n",
        "    learn_rate = tf.Variable(learning_rate)\n",
        "    train_op = tf.train.GradientDescentOptimizer(learn_rate).minimize(cross_entropy)"
      ],
      "execution_count": 0,
      "outputs": []
    },
    {
      "metadata": {
        "id": "eKK0_cW-mxbD",
        "colab_type": "code",
        "colab": {
          "autoexec": {
            "startup": false,
            "wait_interval": 0
          }
        }
      },
      "cell_type": "code",
      "source": [
        "with tf.name_scope('Accuracy'):\n",
        "    prediction = tf.argmax(y,1,name=\"Predict\")    \n",
        "    correct_prediction = tf.equal(prediction, tf.argmax(y_,1))\n",
        "    accuracy = tf.reduce_mean(tf.cast(correct_prediction, tf.float32),name=\"accuracy\")"
      ],
      "execution_count": 0,
      "outputs": []
    },
    {
      "metadata": {
        "id": "Z1pte_5frHuS",
        "colab_type": "code",
        "colab": {
          "autoexec": {
            "startup": false,
            "wait_interval": 0
          }
        }
      },
      "cell_type": "code",
      "source": [
        "training_loss = tf.summary.scalar(\"training_loss\", cross_entropy)\n",
        "training_accuracy = tf.summary.scalar(\"training_accuracy\", accuracy)\n",
        "test_loss = tf.summary.scalar(\"test_loss\", cross_entropy)\n",
        "test_accuracy = tf.summary.scalar(\"test_accuracy\", accuracy)"
      ],
      "execution_count": 0,
      "outputs": []
    },
    {
      "metadata": {
        "id": "0uWpShy1cS6E",
        "colab_type": "text"
      },
      "cell_type": "markdown",
      "source": [
        "**Executing the Graph**"
      ]
    },
    {
      "metadata": {
        "id": "5D_PB-LPomcN",
        "colab_type": "code",
        "colab": {
          "autoexec": {
            "startup": false,
            "wait_interval": 0
          },
          "base_uri": "https://localhost:8080/",
          "height": 697
        },
        "outputId": "fed1c36e-0c4f-45c0-8b6f-c1c425f45aac",
        "executionInfo": {
          "status": "ok",
          "timestamp": 1532761165163,
          "user_tz": -330,
          "elapsed": 182520,
          "user": {
            "displayName": "Ashutosh Joshi",
            "photoUrl": "//lh3.googleusercontent.com/-6YAMosP-CM8/AAAAAAAAAAI/AAAAAAAAABE/HqB6Sx0giHk/s50-c-k-no/photo.jpg",
            "userId": "117103797158922616457"
          }
        }
      },
      "cell_type": "code",
      "source": [
        "with tf.Session() as sess:\n",
        "    # variables need to be initialized before we can use them\n",
        "    sess.run(tf.global_variables_initializer())\n",
        "\n",
        "    # create log writer object\n",
        "    #writer = tf.summary.FileWriter(logs_path, graph=tf.get_default_graph())\n",
        "\n",
        "    # perform training cycles\n",
        "    for epoch in range(training_epochs):\n",
        "      \n",
        "       # number of batches in one epoch\n",
        "        batch_count = int(trainX.shape[0]/batch_size)\n",
        "        \n",
        "        for i in range(batch_count):\n",
        "            batch_x  = trainX[i*batch_size:i*batch_size+batch_size]\n",
        "            batch_y  = trainY[i*batch_size:i*batch_size+batch_size]\n",
        "        \n",
        "        # perform the operations we defined earlier on batch\n",
        "            _,acc,loss = sess.run([train_op, training_accuracy,training_loss], \n",
        "                                  feed_dict={x: batch_x, y_: batch_y})\n",
        "        acc,loss = sess.run([test_accuracy,test_loss],\n",
        "                                   feed_dict={x: testX, y_: testY})\n",
        "        #log training accuracy and loss\n",
        "        #writer.add_summary(acc, epoch)\n",
        "        #writer.add_summary(loss, epoch) \n",
        "        \n",
        "        #Test loss and accuracy\n",
        "        #pls note we are giving test data\n",
        "       \n",
        "        ##writer.add_summary(acc, epoch)\n",
        "        #writer.add_summary(loss, epoch)\n",
        "        \n",
        "        if epoch % 5 == 0: \n",
        "            print (\"Epoch: \", epoch)\n",
        "           \n",
        "            print (\"Test Accuracy: \", accuracy.eval(feed_dict={x: testX, y_: testY}))"
      ],
      "execution_count": 85,
      "outputs": [
        {
          "output_type": "stream",
          "text": [
            "Epoch:  0\n",
            "Test Accuracy:  0.127\n",
            "Epoch:  5\n",
            "Test Accuracy:  0.9138\n",
            "Epoch:  10\n",
            "Test Accuracy:  0.9585\n",
            "Epoch:  15\n",
            "Test Accuracy:  0.9699\n",
            "Epoch:  20\n",
            "Test Accuracy:  0.9726\n",
            "Epoch:  25\n",
            "Test Accuracy:  0.9745\n",
            "Epoch:  30\n",
            "Test Accuracy:  0.9728\n",
            "Epoch:  35\n",
            "Test Accuracy:  0.9773\n",
            "Epoch:  40\n",
            "Test Accuracy:  0.9651\n",
            "Epoch:  45\n",
            "Test Accuracy:  0.9787\n",
            "Epoch:  50\n",
            "Test Accuracy:  0.9791\n",
            "Epoch:  55\n",
            "Test Accuracy:  0.9795\n",
            "Epoch:  60\n",
            "Test Accuracy:  0.9799\n",
            "Epoch:  65\n",
            "Test Accuracy:  0.9797\n",
            "Epoch:  70\n",
            "Test Accuracy:  0.9794\n",
            "Epoch:  75\n",
            "Test Accuracy:  0.9795\n",
            "Epoch:  80\n",
            "Test Accuracy:  0.98\n",
            "Epoch:  85\n",
            "Test Accuracy:  0.9788\n",
            "Epoch:  90\n",
            "Test Accuracy:  0.9788\n",
            "Epoch:  95\n",
            "Test Accuracy:  0.9802\n"
          ],
          "name": "stdout"
        }
      ]
    },
    {
      "metadata": {
        "id": "4V9oMipoca72",
        "colab_type": "text"
      },
      "cell_type": "markdown",
      "source": [
        "**Model is providing 98% accuray **"
      ]
    }
  ]
}